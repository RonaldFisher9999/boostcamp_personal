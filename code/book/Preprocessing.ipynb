{
 "cells": [
  {
   "attachments": {},
   "cell_type": "markdown",
   "id": "8ac5715a",
   "metadata": {},
   "source": [
    "## Load Data"
   ]
  },
  {
   "cell_type": "code",
   "execution_count": 2,
   "id": "657cdbae",
   "metadata": {
    "ExecuteTime": {
     "end_time": "2023-04-16T07:22:44.822422Z",
     "start_time": "2023-04-16T07:22:43.966394Z"
    }
   },
   "outputs": [],
   "source": [
    "import os\n",
    "import pandas as pd\n",
    "import numpy as np"
   ]
  },
  {
   "cell_type": "code",
   "execution_count": 3,
   "id": "a05af8e3",
   "metadata": {
    "ExecuteTime": {
     "end_time": "2023-04-16T07:37:18.403641Z",
     "start_time": "2023-04-16T07:37:17.253120Z"
    }
   },
   "outputs": [],
   "source": [
    "root_path = os.path.join(os.curdir, '../../data/book/processed')\n",
    "\n",
    "raw_users = pd.read_csv(root_path + '/users.csv')\n",
    "raw_books = pd.read_csv(root_path + '/books.csv')\n",
    "raw_train_ratings = pd.read_csv(root_path + '/train_ratings.csv')\n",
    "raw_test_ratings = pd.read_csv(root_path + '/test_ratings.csv')"
   ]
  },
  {
   "cell_type": "code",
   "execution_count": 4,
   "id": "aae0121f",
   "metadata": {},
   "outputs": [
    {
     "data": {
      "text/html": [
       "<div>\n",
       "<style scoped>\n",
       "    .dataframe tbody tr th:only-of-type {\n",
       "        vertical-align: middle;\n",
       "    }\n",
       "\n",
       "    .dataframe tbody tr th {\n",
       "        vertical-align: top;\n",
       "    }\n",
       "\n",
       "    .dataframe thead th {\n",
       "        text-align: right;\n",
       "    }\n",
       "</style>\n",
       "<table border=\"1\" class=\"dataframe\">\n",
       "  <thead>\n",
       "    <tr style=\"text-align: right;\">\n",
       "      <th></th>\n",
       "      <th>user_id</th>\n",
       "      <th>city</th>\n",
       "      <th>state</th>\n",
       "      <th>country</th>\n",
       "      <th>age_bin</th>\n",
       "    </tr>\n",
       "  </thead>\n",
       "  <tbody>\n",
       "    <tr>\n",
       "      <th>0</th>\n",
       "      <td>8</td>\n",
       "      <td>timmins</td>\n",
       "      <td>ontario</td>\n",
       "      <td>canada</td>\n",
       "      <td>0</td>\n",
       "    </tr>\n",
       "    <tr>\n",
       "      <th>1</th>\n",
       "      <td>11400</td>\n",
       "      <td>ottawa</td>\n",
       "      <td>ontario</td>\n",
       "      <td>canada</td>\n",
       "      <td>4</td>\n",
       "    </tr>\n",
       "    <tr>\n",
       "      <th>2</th>\n",
       "      <td>11676</td>\n",
       "      <td>NaN</td>\n",
       "      <td>NaN</td>\n",
       "      <td>NaN</td>\n",
       "      <td>0</td>\n",
       "    </tr>\n",
       "    <tr>\n",
       "      <th>3</th>\n",
       "      <td>67544</td>\n",
       "      <td>toronto</td>\n",
       "      <td>ontario</td>\n",
       "      <td>canada</td>\n",
       "      <td>3</td>\n",
       "    </tr>\n",
       "    <tr>\n",
       "      <th>4</th>\n",
       "      <td>85526</td>\n",
       "      <td>victoria</td>\n",
       "      <td>britishcolumbia</td>\n",
       "      <td>canada</td>\n",
       "      <td>3</td>\n",
       "    </tr>\n",
       "  </tbody>\n",
       "</table>\n",
       "</div>"
      ],
      "text/plain": [
       "   user_id      city            state country  age_bin\n",
       "0        8   timmins          ontario  canada        0\n",
       "1    11400    ottawa          ontario  canada        4\n",
       "2    11676       NaN              NaN     NaN        0\n",
       "3    67544   toronto          ontario  canada        3\n",
       "4    85526  victoria  britishcolumbia  canada        3"
      ]
     },
     "execution_count": 4,
     "metadata": {},
     "output_type": "execute_result"
    }
   ],
   "source": [
    "raw_users.head()"
   ]
  },
  {
   "cell_type": "code",
   "execution_count": 9,
   "id": "65462766",
   "metadata": {},
   "outputs": [
    {
     "name": "stdout",
     "output_type": "stream",
     "text": [
      "<class 'pandas.core.frame.DataFrame'>\n",
      "RangeIndex: 149570 entries, 0 to 149569\n",
      "Data columns (total 7 columns):\n",
      " #   Column               Non-Null Count   Dtype \n",
      "---  ------               --------------   ----- \n",
      " 0   isbn                 149570 non-null  object\n",
      " 1   book_author          149569 non-null  object\n",
      " 2   year_of_publication  149570 non-null  int64 \n",
      " 3   publisher            149570 non-null  object\n",
      " 4   summary              149570 non-null  int64 \n",
      " 5   major_cat            149570 non-null  object\n",
      " 6   isbn_area            149570 non-null  object\n",
      "dtypes: int64(2), object(5)\n",
      "memory usage: 8.0+ MB\n"
     ]
    }
   ],
   "source": [
    "raw_books.info()"
   ]
  },
  {
   "cell_type": "code",
   "execution_count": 14,
   "id": "2d8e9934",
   "metadata": {},
   "outputs": [
    {
     "data": {
      "text/plain": [
       "isbn_area\n",
       "1       134405\n",
       "3         6706\n",
       "2         3405\n",
       "84        3399\n",
       "88         482\n",
       "         ...  \n",
       "9991         1\n",
       "9960         1\n",
       "9979         1\n",
       "9974         1\n",
       "9998         1\n",
       "Name: count, Length: 68, dtype: int64"
      ]
     },
     "execution_count": 14,
     "metadata": {},
     "output_type": "execute_result"
    }
   ],
   "source": [
    "raw_books['isbn_area'].value_counts()"
   ]
  },
  {
   "cell_type": "code",
   "execution_count": null,
   "id": "03ce31f5",
   "metadata": {},
   "outputs": [],
   "source": []
  },
  {
   "attachments": {},
   "cell_type": "markdown",
   "id": "c569a086",
   "metadata": {},
   "source": [
    "## users 전처리 함수\n",
    "- location\n",
    "    - 소문자 변환, 공백 및 특수문자 삭제\n",
    "    - , 기준으로 앞에서부터 city, state, country 분리\n",
    "    - state 결측치에 city 기준으로 최빈 state 대체\n",
    "    - country 결측치에 city 기준으로 최빈 country 대체\n",
    "    - 미국이면 state 사용, 그외는 country 사용\n",
    "    - 결측치는 'na' 입력\n",
    "- age -> age_bin\n",
    "    - 결측치는 0 입력\n",
    "    - 결측치, 20세 미만부터 70세 미만, 70세 이상 100세 미만 총 8개 구간으로 범주화\n",
    "- city, state, country, age\n",
    "    - 삭제\n",
    "- (선택) 데이터가 적은 class는 others로 통합\n",
    "    - location\n",
    "    - 시간이 오래 걸림"
   ]
  },
  {
   "cell_type": "code",
   "execution_count": 4,
   "id": "34c76d6a",
   "metadata": {
    "ExecuteTime": {
     "end_time": "2023-04-16T07:23:01.213943Z",
     "start_time": "2023-04-16T07:23:01.191543Z"
    },
    "run_control": {
     "marked": true
    }
   },
   "outputs": [],
   "source": [
    "def users_preprocess(raw_users) :\n",
    "    users = raw_users.copy()\n",
    "    \n",
    "    # location\n",
    "    users['location'] = users['location'].str.lower().replace('[^0-9a-zA-Z:,]', '', regex=True)\n",
    "    users['city'] = users['location'].apply(lambda x: x.split(',')[-3].strip())\n",
    "    users['state'] = users['location'].apply(lambda x: x.split(',')[-2].strip())\n",
    "    users['country'] = users['location'].apply(lambda x: x.split(',')[-1].strip())\n",
    "    users = users.replace('na', np.nan)\n",
    "    users = users.replace('', np.nan)\n",
    "    users.drop(columns=['location'], inplace=True)\n",
    "    \n",
    "    city_state_map = dict(users.groupby('city')['state']\n",
    "                          .value_counts().sort_values().index.tolist())\n",
    "    city_country_map = dict(users.groupby('city')['country']\n",
    "                            .value_counts().sort_values().index.tolist())\n",
    "    users['state'] = users['city'].map(city_state_map)\n",
    "    users['country'] = users['city'].map(city_country_map)\n",
    "    \n",
    "    users['location'] = users['country'].copy()\n",
    "    users['location'] = np.where(users['location']=='usa',\n",
    "                             users['state'],\n",
    "                             users['location'])\n",
    "    users['location'].fillna('na', inplace=True)\n",
    "    \n",
    "    # age\n",
    "    users['age'].fillna(0, inplace=True)\n",
    "    bins = [0, 1, 20, 30, 40, 50, 60, 70, 100]\n",
    "    users['age_bin'] = pd.cut(x=users['age'], bins=bins, right=False, labels=range(8))\n",
    "\n",
    "    # 선택\n",
    "    location_cnt = users['location'].value_counts()\n",
    "    low_cnt_location = location_cnt[location_cnt < 10].index.tolist()\n",
    "    for location in low_cnt_location :\n",
    "        users['location'] = np.where(users['location']==location,\n",
    "                                     'others', users['location'])\n",
    "    users.drop(columns=['city', 'state', 'country', 'age'], inplace=True)\n",
    "    \n",
    "    return users"
   ]
  },
  {
   "cell_type": "code",
   "execution_count": 5,
   "id": "5a74b76e",
   "metadata": {
    "ExecuteTime": {
     "end_time": "2023-04-16T07:24:32.145415Z",
     "start_time": "2023-04-16T07:24:31.271372Z"
    }
   },
   "outputs": [],
   "source": [
    "users = users_preprocess(raw_users)"
   ]
  },
  {
   "cell_type": "code",
   "execution_count": 6,
   "id": "26e70ede",
   "metadata": {
    "ExecuteTime": {
     "end_time": "2023-04-16T07:24:41.582874Z",
     "start_time": "2023-04-16T07:24:41.573459Z"
    }
   },
   "outputs": [
    {
     "data": {
      "text/html": [
       "<div>\n",
       "<style scoped>\n",
       "    .dataframe tbody tr th:only-of-type {\n",
       "        vertical-align: middle;\n",
       "    }\n",
       "\n",
       "    .dataframe tbody tr th {\n",
       "        vertical-align: top;\n",
       "    }\n",
       "\n",
       "    .dataframe thead th {\n",
       "        text-align: right;\n",
       "    }\n",
       "</style>\n",
       "<table border=\"1\" class=\"dataframe\">\n",
       "  <thead>\n",
       "    <tr style=\"text-align: right;\">\n",
       "      <th></th>\n",
       "      <th>user_id</th>\n",
       "      <th>location</th>\n",
       "      <th>age_bin</th>\n",
       "    </tr>\n",
       "  </thead>\n",
       "  <tbody>\n",
       "    <tr>\n",
       "      <th>0</th>\n",
       "      <td>8</td>\n",
       "      <td>canada</td>\n",
       "      <td>0</td>\n",
       "    </tr>\n",
       "    <tr>\n",
       "      <th>1</th>\n",
       "      <td>11400</td>\n",
       "      <td>canada</td>\n",
       "      <td>4</td>\n",
       "    </tr>\n",
       "    <tr>\n",
       "      <th>2</th>\n",
       "      <td>11676</td>\n",
       "      <td>na</td>\n",
       "      <td>0</td>\n",
       "    </tr>\n",
       "    <tr>\n",
       "      <th>3</th>\n",
       "      <td>67544</td>\n",
       "      <td>canada</td>\n",
       "      <td>3</td>\n",
       "    </tr>\n",
       "    <tr>\n",
       "      <th>4</th>\n",
       "      <td>85526</td>\n",
       "      <td>canada</td>\n",
       "      <td>3</td>\n",
       "    </tr>\n",
       "  </tbody>\n",
       "</table>\n",
       "</div>"
      ],
      "text/plain": [
       "   user_id location age_bin\n",
       "0        8   canada       0\n",
       "1    11400   canada       4\n",
       "2    11676       na       0\n",
       "3    67544   canada       3\n",
       "4    85526   canada       3"
      ]
     },
     "execution_count": 6,
     "metadata": {},
     "output_type": "execute_result"
    }
   ],
   "source": [
    "users.head()"
   ]
  },
  {
   "attachments": {},
   "cell_type": "markdown",
   "id": "4c4e9d1f",
   "metadata": {},
   "source": [
    "## books 전처리 함수\n",
    "- isbn \n",
    "    - img_url 에서 파싱해서 대체\n",
    "    - books, ratings 같이 처리\n",
    "- book_author\n",
    "    - 소문자 변환, 공백 및 특수문자 삭제\n",
    "- year_of_publication\n",
    "    - 1950년 이전 ~ 2010년 이전까지 7개 구간으로 범주화\n",
    "- publisher\n",
    "    - 소문자 변환, 공백 및 특수문자 삭제\n",
    "- category -> major_cat\n",
    "    - 소문자 변환, 공백 및 특수문자 삭제\n",
    "    - 동일 저자에 대해 최빈 카테고리로 통일\n",
    "        - ex) 저자가 stephenking인 모든 책의 카테고리는 fiction\n",
    "    - 남은 결측치에 대해서 출판사의 최빈 카테고리 적용 (통일은 X)\n",
    "    - 그래도 남은 결측치에는 'na'\n",
    "    - 최종적으로 같은 카테고리로 분류 가능한 경우를 묶어서 major_cat으로 정리\n",
    "- summary\n",
    "    - 있으면 1, 없으면 0으로 변환\n",
    "- isbn_area\n",
    "    - 참고 : https://en.wikipedia.org/wiki/List_of_ISBN_registration_groups\n",
    "    - isbn의 접두사 부분을 파싱해 책이 출판된 국가/지역/언어권 구분\n",
    "- book_title, img_url, img_path, language, category\n",
    "    - 삭제\n",
    "- (선택) 데이터가 적은 class는 others로 통합\n",
    "    - author, publisher, major_cat, isbn_area\n",
    "    - 시간이 오래 걸림"
   ]
  },
  {
   "cell_type": "code",
   "execution_count": 11,
   "id": "92306f01",
   "metadata": {
    "ExecuteTime": {
     "end_time": "2023-04-16T07:37:35.010206Z",
     "start_time": "2023-04-16T07:37:34.988884Z"
    }
   },
   "outputs": [],
   "source": [
    "def isbn_area(isbn) :\n",
    "    if isbn[0] in ('0', '1') :\n",
    "        return '1'\n",
    "    if isbn[0] in ('2', '3', '4', '5', '7') :\n",
    "        return isbn[0]\n",
    "    # 6으로 시작하는 경우 없음\n",
    "    if isbn[0] == '8' :\n",
    "        return isbn[:2]\n",
    "    if isbn[0] == '9' :\n",
    "        if int(isbn[:2]) < 95 :\n",
    "            return isbn[:2]\n",
    "        if int(isbn[:2]) < 99 :\n",
    "            return isbn[:3]\n",
    "        else :\n",
    "            return isbn[:4]\n",
    "    else :\n",
    "        return 'others'\n",
    "\n",
    "def books_ratings_preprocess(raw_books, raw_train_ratings, raw_test_ratings) :\n",
    "    books = raw_books.copy()\n",
    "    train_ratings = raw_train_ratings.merge(raw_books[['isbn', 'img_url']], how='left', on='isbn')\n",
    "    test_ratings = raw_test_ratings.merge(raw_books[['isbn', 'img_url']], how='left', on='isbn')\n",
    "    \n",
    "    # isbn\n",
    "    train_ratings['isbn'] = train_ratings['img_url'].apply(lambda x: x.split('P/')[1][:10])\n",
    "    test_ratings['isbn'] = test_ratings['img_url'].apply(lambda x: x.split('P/')[1][:10])\n",
    "    books['isbn'] = books['img_url'].apply(lambda x: x.split('P/')[1][:10])\n",
    "    \n",
    "    # book_author\n",
    "    books['book_author'] = books['book_author'].str\\\n",
    "                        .lower().replace('[^0-9a-zA-Z]', '', regex=True)\n",
    "    \n",
    "    # year_of_publication\n",
    "    bins = [0, 1950, 1960, 1970, 1980, 1990, 2000, 2010]\n",
    "    books['year_of_publication'] = pd.cut(x=books['year_of_publication'],\n",
    "                                          bins=bins, right=False, labels=range(7))\n",
    "    \n",
    "    # publisher\n",
    "    books['publisher'] = books['publisher'].str\\\n",
    "                        .lower().replace('[^0-9a-zA-Z]', '', regex=True)\n",
    "    \n",
    "    # category\n",
    "    books['category'] = books['category'].str\\\n",
    "                        .lower().replace('[^0-9a-zA-Z]', '', regex=True)\n",
    "    author_cat_map = dict(books.groupby('book_author')['category']\n",
    "                      .value_counts().sort_values().index.tolist())\n",
    "    books['category'] = books['book_author'].map(author_cat_map)\n",
    "    publisher_cat_map = dict(books.groupby('publisher')['category']\n",
    "                      .value_counts().sort_values().index.tolist())\n",
    "    books['category'] = books['category'].fillna(\n",
    "                        books['publisher'].map(publisher_cat_map))\n",
    "    books['category'].fillna('na', inplace=True)\n",
    "    major_cat = ['fiction', 'juvenilefiction', 'juvenilenonfiction', 'biography',\n",
    "            'histor', 'religio', 'science', 'social', 'politic', 'humor',\n",
    "            'spirit', 'business', 'cook', 'health', 'famil', 'computer',\n",
    "            'travel', 'self', 'poet', 'language', 'art', 'language art',\n",
    "            'literary', 'criticism', 'nature', 'philosoph', 'reference', 'drama',\n",
    "            'sport', 'transportation', 'comic', 'craft', 'education', 'crime',\n",
    "            'music', 'animal', 'garden', 'detective', 'house', 'tech', 'photograph',\n",
    "            'adventure', 'game', 'architect', 'law', 'antique', 'friend',\n",
    "            'sciencefiction', 'fantasy', 'mathematic', 'design', 'actor',\n",
    "            'horror', 'adultery']\n",
    "    books['major_cat'] = books['category'].copy()\n",
    "    for category in major_cat :\n",
    "        books['major_cat'] = np.where(books['category'].str.contains(category),\n",
    "                                     category, books['major_cat'])\n",
    "        \n",
    "    # summary\n",
    "    books['summary'] = np.where(books['summary'].notnull(), 1, 0)\n",
    "    \n",
    "    # isbn_area\n",
    "    books['isbn_area'] = books['isbn'].apply(isbn_area)\n",
    "#     # 선택\n",
    "#     aut_cnt = books['book_author'].value_counts()\n",
    "#     low_cnt_aut = aut_cnt[aut_cnt < 10].index.tolist()\n",
    "#     for aut in low_cnt_aut :\n",
    "#         books['book_author'] = np.where(books['book_author']==aut,\n",
    "#                                      'others', books['book_author'])\n",
    "#     # 선택\n",
    "#     pub_cnt = books['publisher'].value_counts()\n",
    "#     low_cnt_pub = pub_cnt[pub_cnt < 10].index.tolist()\n",
    "#     for pub in low_cnt_pub :\n",
    "#         books['publisher'] = np.where(books['publisher']==pub,\n",
    "#                                      'others', books['publisher'])\n",
    "    # 선택\n",
    "    cat_cnt = books['major_cat'].value_counts()\n",
    "    low_cnt_cat = cat_cnt[cat_cnt < 10].index.tolist()\n",
    "    for cat in low_cnt_cat :\n",
    "        books['major_cat'] = np.where(books['major_cat']==cat,\n",
    "                                     'others', books['major_cat'])\n",
    "#     # 선택\n",
    "#     area_cnt = books['isbn_area'].value_counts()\n",
    "#     low_cnt_area = area_cnt[area_cnt < 10].index.tolist()\n",
    "#     for area in low_cnt_cat :\n",
    "#         books['isbn_area'] = np.where(books['isbn_area']==area,\n",
    "#                                      'others', books['isbn_area'])\n",
    "    \n",
    "    train_ratings.drop(columns=['img_url'], inplace=True)\n",
    "    test_ratings.drop(columns=['img_url'], inplace=True)\n",
    "    books.drop(columns=['book_title', 'img_url', 'language', 'category', 'img_path'],\n",
    "               inplace=True)\n",
    "    \n",
    "    return books, train_ratings, test_ratings\n",
    "    "
   ]
  },
  {
   "cell_type": "code",
   "execution_count": 12,
   "id": "bb3714c0",
   "metadata": {
    "ExecuteTime": {
     "end_time": "2023-04-16T07:38:05.898297Z",
     "start_time": "2023-04-16T07:37:45.979985Z"
    }
   },
   "outputs": [],
   "source": [
    "books, train_ratings, test_ratings = books_ratings_preprocess(raw_books, raw_train_ratings, raw_test_ratings)"
   ]
  },
  {
   "cell_type": "code",
   "execution_count": 13,
   "id": "7c41f18e",
   "metadata": {
    "ExecuteTime": {
     "end_time": "2023-04-16T07:38:08.014084Z",
     "start_time": "2023-04-16T07:38:07.996701Z"
    }
   },
   "outputs": [
    {
     "data": {
      "text/html": [
       "<div>\n",
       "<style scoped>\n",
       "    .dataframe tbody tr th:only-of-type {\n",
       "        vertical-align: middle;\n",
       "    }\n",
       "\n",
       "    .dataframe tbody tr th {\n",
       "        vertical-align: top;\n",
       "    }\n",
       "\n",
       "    .dataframe thead th {\n",
       "        text-align: right;\n",
       "    }\n",
       "</style>\n",
       "<table border=\"1\" class=\"dataframe\">\n",
       "  <thead>\n",
       "    <tr style=\"text-align: right;\">\n",
       "      <th></th>\n",
       "      <th>isbn</th>\n",
       "      <th>book_author</th>\n",
       "      <th>year_of_publication</th>\n",
       "      <th>publisher</th>\n",
       "      <th>summary</th>\n",
       "      <th>major_cat</th>\n",
       "      <th>isbn_area</th>\n",
       "    </tr>\n",
       "  </thead>\n",
       "  <tbody>\n",
       "    <tr>\n",
       "      <th>0</th>\n",
       "      <td>0002005018</td>\n",
       "      <td>richardbrucewright</td>\n",
       "      <td>6</td>\n",
       "      <td>harperflamingocanada</td>\n",
       "      <td>1</td>\n",
       "      <td>others</td>\n",
       "      <td>1</td>\n",
       "    </tr>\n",
       "    <tr>\n",
       "      <th>1</th>\n",
       "      <td>0060973129</td>\n",
       "      <td>carlodeste</td>\n",
       "      <td>5</td>\n",
       "      <td>harperperennial</td>\n",
       "      <td>1</td>\n",
       "      <td>biography</td>\n",
       "      <td>1</td>\n",
       "    </tr>\n",
       "    <tr>\n",
       "      <th>2</th>\n",
       "      <td>0374157065</td>\n",
       "      <td>ginabarikolata</td>\n",
       "      <td>5</td>\n",
       "      <td>farrarstrausgiroux</td>\n",
       "      <td>1</td>\n",
       "      <td>medical</td>\n",
       "      <td>1</td>\n",
       "    </tr>\n",
       "    <tr>\n",
       "      <th>3</th>\n",
       "      <td>0399135782</td>\n",
       "      <td>amytan</td>\n",
       "      <td>5</td>\n",
       "      <td>putnampubgroup</td>\n",
       "      <td>1</td>\n",
       "      <td>fiction</td>\n",
       "      <td>1</td>\n",
       "    </tr>\n",
       "    <tr>\n",
       "      <th>4</th>\n",
       "      <td>0425176428</td>\n",
       "      <td>robertcowley</td>\n",
       "      <td>6</td>\n",
       "      <td>berkleypublishinggroup</td>\n",
       "      <td>1</td>\n",
       "      <td>histor</td>\n",
       "      <td>1</td>\n",
       "    </tr>\n",
       "  </tbody>\n",
       "</table>\n",
       "</div>"
      ],
      "text/plain": [
       "         isbn         book_author year_of_publication               publisher  \\\n",
       "0  0002005018  richardbrucewright                   6    harperflamingocanada   \n",
       "1  0060973129          carlodeste                   5         harperperennial   \n",
       "2  0374157065      ginabarikolata                   5      farrarstrausgiroux   \n",
       "3  0399135782              amytan                   5          putnampubgroup   \n",
       "4  0425176428        robertcowley                   6  berkleypublishinggroup   \n",
       "\n",
       "   summary  major_cat isbn_area  \n",
       "0        1     others         1  \n",
       "1        1  biography         1  \n",
       "2        1    medical         1  \n",
       "3        1    fiction         1  \n",
       "4        1     histor         1  "
      ]
     },
     "execution_count": 13,
     "metadata": {},
     "output_type": "execute_result"
    }
   ],
   "source": [
    "books.head()"
   ]
  },
  {
   "cell_type": "code",
   "execution_count": 20,
   "id": "cba3bc4f",
   "metadata": {
    "ExecuteTime": {
     "end_time": "2023-04-16T07:38:14.171506Z",
     "start_time": "2023-04-16T07:38:14.163951Z"
    }
   },
   "outputs": [
    {
     "data": {
      "text/html": [
       "<div>\n",
       "<style scoped>\n",
       "    .dataframe tbody tr th:only-of-type {\n",
       "        vertical-align: middle;\n",
       "    }\n",
       "\n",
       "    .dataframe tbody tr th {\n",
       "        vertical-align: top;\n",
       "    }\n",
       "\n",
       "    .dataframe thead th {\n",
       "        text-align: right;\n",
       "    }\n",
       "</style>\n",
       "<table border=\"1\" class=\"dataframe\">\n",
       "  <thead>\n",
       "    <tr style=\"text-align: right;\">\n",
       "      <th></th>\n",
       "      <th>user_id</th>\n",
       "      <th>isbn</th>\n",
       "      <th>rating</th>\n",
       "    </tr>\n",
       "  </thead>\n",
       "  <tbody>\n",
       "    <tr>\n",
       "      <th>0</th>\n",
       "      <td>8</td>\n",
       "      <td>0002005018</td>\n",
       "      <td>4</td>\n",
       "    </tr>\n",
       "    <tr>\n",
       "      <th>1</th>\n",
       "      <td>67544</td>\n",
       "      <td>0002005018</td>\n",
       "      <td>7</td>\n",
       "    </tr>\n",
       "    <tr>\n",
       "      <th>2</th>\n",
       "      <td>123629</td>\n",
       "      <td>0002005018</td>\n",
       "      <td>8</td>\n",
       "    </tr>\n",
       "    <tr>\n",
       "      <th>3</th>\n",
       "      <td>200273</td>\n",
       "      <td>0002005018</td>\n",
       "      <td>8</td>\n",
       "    </tr>\n",
       "    <tr>\n",
       "      <th>4</th>\n",
       "      <td>210926</td>\n",
       "      <td>0002005018</td>\n",
       "      <td>9</td>\n",
       "    </tr>\n",
       "  </tbody>\n",
       "</table>\n",
       "</div>"
      ],
      "text/plain": [
       "   user_id        isbn  rating\n",
       "0        8  0002005018       4\n",
       "1    67544  0002005018       7\n",
       "2   123629  0002005018       8\n",
       "3   200273  0002005018       8\n",
       "4   210926  0002005018       9"
      ]
     },
     "execution_count": 20,
     "metadata": {},
     "output_type": "execute_result"
    }
   ],
   "source": [
    "train_ratings.head()"
   ]
  },
  {
   "cell_type": "code",
   "execution_count": 21,
   "id": "6d91ffdc",
   "metadata": {
    "ExecuteTime": {
     "end_time": "2023-04-16T07:38:23.031325Z",
     "start_time": "2023-04-16T07:38:23.013086Z"
    }
   },
   "outputs": [
    {
     "data": {
      "text/html": [
       "<div>\n",
       "<style scoped>\n",
       "    .dataframe tbody tr th:only-of-type {\n",
       "        vertical-align: middle;\n",
       "    }\n",
       "\n",
       "    .dataframe tbody tr th {\n",
       "        vertical-align: top;\n",
       "    }\n",
       "\n",
       "    .dataframe thead th {\n",
       "        text-align: right;\n",
       "    }\n",
       "</style>\n",
       "<table border=\"1\" class=\"dataframe\">\n",
       "  <thead>\n",
       "    <tr style=\"text-align: right;\">\n",
       "      <th></th>\n",
       "      <th>user_id</th>\n",
       "      <th>isbn</th>\n",
       "      <th>rating</th>\n",
       "    </tr>\n",
       "  </thead>\n",
       "  <tbody>\n",
       "    <tr>\n",
       "      <th>0</th>\n",
       "      <td>11676</td>\n",
       "      <td>0002005018</td>\n",
       "      <td>0</td>\n",
       "    </tr>\n",
       "    <tr>\n",
       "      <th>1</th>\n",
       "      <td>116866</td>\n",
       "      <td>0002005018</td>\n",
       "      <td>0</td>\n",
       "    </tr>\n",
       "    <tr>\n",
       "      <th>2</th>\n",
       "      <td>152827</td>\n",
       "      <td>0060973129</td>\n",
       "      <td>0</td>\n",
       "    </tr>\n",
       "    <tr>\n",
       "      <th>3</th>\n",
       "      <td>157969</td>\n",
       "      <td>0374157065</td>\n",
       "      <td>0</td>\n",
       "    </tr>\n",
       "    <tr>\n",
       "      <th>4</th>\n",
       "      <td>67958</td>\n",
       "      <td>0399135782</td>\n",
       "      <td>0</td>\n",
       "    </tr>\n",
       "  </tbody>\n",
       "</table>\n",
       "</div>"
      ],
      "text/plain": [
       "   user_id        isbn  rating\n",
       "0    11676  0002005018       0\n",
       "1   116866  0002005018       0\n",
       "2   152827  0060973129       0\n",
       "3   157969  0374157065       0\n",
       "4    67958  0399135782       0"
      ]
     },
     "execution_count": 21,
     "metadata": {},
     "output_type": "execute_result"
    }
   ],
   "source": [
    "test_ratings.head()"
   ]
  },
  {
   "cell_type": "code",
   "execution_count": 27,
   "id": "d849013a",
   "metadata": {
    "ExecuteTime": {
     "end_time": "2023-04-16T08:09:57.396901Z",
     "start_time": "2023-04-16T08:09:56.392463Z"
    },
    "run_control": {
     "marked": true
    }
   },
   "outputs": [],
   "source": [
    "users.to_csv('users.csv', index=False)\n",
    "books.to_csv('books.csv', index=False)\n",
    "train_ratings.to_csv('train_ratings.csv', index=False)\n",
    "test_ratings.to_csv('test_ratings.csv', index=False)\n",
    "test_ratings.to_csv('sample_submission.csv', index=False)"
   ]
  },
  {
   "cell_type": "code",
   "execution_count": 23,
   "id": "17a47aa5",
   "metadata": {
    "ExecuteTime": {
     "end_time": "2023-04-16T07:41:11.855779Z",
     "start_time": "2023-04-16T07:41:11.571776Z"
    }
   },
   "outputs": [
    {
     "data": {
      "text/html": [
       "<div>\n",
       "<style scoped>\n",
       "    .dataframe tbody tr th:only-of-type {\n",
       "        vertical-align: middle;\n",
       "    }\n",
       "\n",
       "    .dataframe tbody tr th {\n",
       "        vertical-align: top;\n",
       "    }\n",
       "\n",
       "    .dataframe thead th {\n",
       "        text-align: right;\n",
       "    }\n",
       "</style>\n",
       "<table border=\"1\" class=\"dataframe\">\n",
       "  <thead>\n",
       "    <tr style=\"text-align: right;\">\n",
       "      <th></th>\n",
       "      <th>user_id</th>\n",
       "      <th>isbn</th>\n",
       "      <th>rating</th>\n",
       "      <th>location</th>\n",
       "      <th>age_bin</th>\n",
       "      <th>book_author</th>\n",
       "      <th>year_of_publication</th>\n",
       "      <th>publisher</th>\n",
       "      <th>summary</th>\n",
       "      <th>major_cat</th>\n",
       "      <th>isbn_area</th>\n",
       "    </tr>\n",
       "  </thead>\n",
       "  <tbody>\n",
       "    <tr>\n",
       "      <th>149804</th>\n",
       "      <td>194646</td>\n",
       "      <td>0441822134</td>\n",
       "      <td>8</td>\n",
       "      <td>unitedkingdom</td>\n",
       "      <td>5</td>\n",
       "      <td>alisonuttley</td>\n",
       "      <td>4</td>\n",
       "      <td>acebooks</td>\n",
       "      <td>1</td>\n",
       "      <td>fantasy</td>\n",
       "      <td>1</td>\n",
       "    </tr>\n",
       "    <tr>\n",
       "      <th>128745</th>\n",
       "      <td>93047</td>\n",
       "      <td>006051258X</td>\n",
       "      <td>5</td>\n",
       "      <td>newhampshire</td>\n",
       "      <td>5</td>\n",
       "      <td>billscheft</td>\n",
       "      <td>6</td>\n",
       "      <td>perennial</td>\n",
       "      <td>1</td>\n",
       "      <td>fiction</td>\n",
       "      <td>1</td>\n",
       "    </tr>\n",
       "    <tr>\n",
       "      <th>284527</th>\n",
       "      <td>173111</td>\n",
       "      <td>1574533371</td>\n",
       "      <td>9</td>\n",
       "      <td>southcarolina</td>\n",
       "      <td>3</td>\n",
       "      <td>conniemayfowler</td>\n",
       "      <td>6</td>\n",
       "      <td>audioliterature</td>\n",
       "      <td>0</td>\n",
       "      <td>fiction</td>\n",
       "      <td>1</td>\n",
       "    </tr>\n",
       "    <tr>\n",
       "      <th>112225</th>\n",
       "      <td>8362</td>\n",
       "      <td>055321490X</td>\n",
       "      <td>5</td>\n",
       "      <td>california</td>\n",
       "      <td>2</td>\n",
       "      <td>virginiawoolf</td>\n",
       "      <td>5</td>\n",
       "      <td>bantam</td>\n",
       "      <td>0</td>\n",
       "      <td>fiction</td>\n",
       "      <td>1</td>\n",
       "    </tr>\n",
       "    <tr>\n",
       "      <th>221518</th>\n",
       "      <td>51883</td>\n",
       "      <td>0373226101</td>\n",
       "      <td>10</td>\n",
       "      <td>georgia</td>\n",
       "      <td>3</td>\n",
       "      <td>simonwebb</td>\n",
       "      <td>6</td>\n",
       "      <td>harlequin</td>\n",
       "      <td>1</td>\n",
       "      <td>fiction</td>\n",
       "      <td>1</td>\n",
       "    </tr>\n",
       "  </tbody>\n",
       "</table>\n",
       "</div>"
      ],
      "text/plain": [
       "        user_id        isbn  rating       location age_bin      book_author  \\\n",
       "149804   194646  0441822134       8  unitedkingdom       5     alisonuttley   \n",
       "128745    93047  006051258X       5   newhampshire       5       billscheft   \n",
       "284527   173111  1574533371       9  southcarolina       3  conniemayfowler   \n",
       "112225     8362  055321490X       5     california       2    virginiawoolf   \n",
       "221518    51883  0373226101      10        georgia       3        simonwebb   \n",
       "\n",
       "       year_of_publication        publisher  summary major_cat isbn_area  \n",
       "149804                   4         acebooks        1   fantasy         1  \n",
       "128745                   6        perennial        1   fiction         1  \n",
       "284527                   6  audioliterature        0   fiction         1  \n",
       "112225                   5           bantam        0   fiction         1  \n",
       "221518                   6        harlequin        1   fiction         1  "
      ]
     },
     "execution_count": 23,
     "metadata": {},
     "output_type": "execute_result"
    }
   ],
   "source": [
    "context_df = train_ratings.merge(users, on='user_id', how='left')\\\n",
    "                    .merge(books, on='isbn', how='left')\n",
    "context_df.sample(5)"
   ]
  }
 ],
 "metadata": {
  "kernelspec": {
   "display_name": "Python 3 (ipykernel)",
   "language": "python",
   "name": "python3"
  },
  "language_info": {
   "codemirror_mode": {
    "name": "ipython",
    "version": 3
   },
   "file_extension": ".py",
   "mimetype": "text/x-python",
   "name": "python",
   "nbconvert_exporter": "python",
   "pygments_lexer": "ipython3",
   "version": "3.10.11"
  },
  "toc": {
   "base_numbering": 1,
   "nav_menu": {},
   "number_sections": true,
   "sideBar": true,
   "skip_h1_title": false,
   "title_cell": "Table of Contents",
   "title_sidebar": "Contents",
   "toc_cell": false,
   "toc_position": {},
   "toc_section_display": true,
   "toc_window_display": false
  },
  "varInspector": {
   "cols": {
    "lenName": 16,
    "lenType": 16,
    "lenVar": 40
   },
   "kernels_config": {
    "python": {
     "delete_cmd_postfix": "",
     "delete_cmd_prefix": "del ",
     "library": "var_list.py",
     "varRefreshCmd": "print(var_dic_list())"
    },
    "r": {
     "delete_cmd_postfix": ") ",
     "delete_cmd_prefix": "rm(",
     "library": "var_list.r",
     "varRefreshCmd": "cat(var_dic_list()) "
    }
   },
   "types_to_exclude": [
    "module",
    "function",
    "builtin_function_or_method",
    "instance",
    "_Feature"
   ],
   "window_display": false
  }
 },
 "nbformat": 4,
 "nbformat_minor": 5
}
